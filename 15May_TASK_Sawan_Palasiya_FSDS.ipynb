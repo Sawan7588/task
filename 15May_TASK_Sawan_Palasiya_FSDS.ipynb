{
 "cells": [
  {
   "cell_type": "code",
   "execution_count": 1,
   "id": "e62767c8",
   "metadata": {},
   "outputs": [],
   "source": [
    "s = \"this is My First Python programming class and i am learNING python string and its function\""
   ]
  },
  {
   "cell_type": "code",
   "execution_count": 4,
   "id": "10efa5db",
   "metadata": {},
   "outputs": [
    {
     "data": {
      "text/plain": [
       "'h   r tnrrmglsnimeNGyosi dtfco'"
      ]
     },
     "execution_count": 4,
     "metadata": {},
     "output_type": "execute_result"
    }
   ],
   "source": [
    "#  Q. 1 . Try to extract data from index one to index 300 with a jump of 3\n",
    "s[1:300:3]"
   ]
  },
  {
   "cell_type": "code",
   "execution_count": 5,
   "id": "da48d137",
   "metadata": {},
   "outputs": [
    {
     "data": {
      "text/plain": [
       "'noitcnuf sti dna gnirts nohtyp GNINrael ma i dna ssalc gnimmargorp nohtyP tsriF yM si siht'"
      ]
     },
     "execution_count": 5,
     "metadata": {},
     "output_type": "execute_result"
    }
   ],
   "source": [
    "# 2. Try to reverse a string without using reverse function\n",
    "s[::-1]"
   ]
  },
  {
   "cell_type": "code",
   "execution_count": 13,
   "id": "51d8bda2",
   "metadata": {},
   "outputs": [
    {
     "data": {
      "text/plain": [
       "['THIS',\n",
       " 'IS',\n",
       " 'MY',\n",
       " 'FIRST',\n",
       " 'PYTHON',\n",
       " 'PROGRAMMING',\n",
       " 'CLASS',\n",
       " 'AND',\n",
       " 'I',\n",
       " 'AM',\n",
       " 'LEARNING',\n",
       " 'PYTHON',\n",
       " 'STRING',\n",
       " 'AND',\n",
       " 'ITS',\n",
       " 'FUNCTION']"
      ]
     },
     "execution_count": 13,
     "metadata": {},
     "output_type": "execute_result"
    }
   ],
   "source": [
    "# 3. Try to split a string after conversion of entire string in uppercase\n",
    "s1 = s.upper()\n",
    "s1.split()"
   ]
  },
  {
   "cell_type": "code",
   "execution_count": 15,
   "id": "b50aea07",
   "metadata": {},
   "outputs": [
    {
     "data": {
      "text/plain": [
       "'this is my first python programming class and i am learning python string and its function'"
      ]
     },
     "execution_count": 15,
     "metadata": {},
     "output_type": "execute_result"
    }
   ],
   "source": [
    "# 4. try to convert the whole string into lower case\n",
    "s1.lower()"
   ]
  },
  {
   "cell_type": "code",
   "execution_count": 17,
   "id": "e80a31cc",
   "metadata": {},
   "outputs": [
    {
     "data": {
      "text/plain": [
       "'This is my first python programming class and i am learning python string and its function'"
      ]
     },
     "execution_count": 17,
     "metadata": {},
     "output_type": "execute_result"
    }
   ],
   "source": [
    "# 5 . Try to capitalize the whole string\n",
    "s1.capitalize()"
   ]
  },
  {
   "cell_type": "code",
   "execution_count": null,
   "id": "56ef5b0f",
   "metadata": {},
   "outputs": [],
   "source": [
    "# 6 . Write a diference between isalnum() and isalpha()\n",
    "\n",
    "The isalpha() method returns True if all the characters are alphabet letters (a-z).\n",
    "isalnum() only returns true if a string contains alphanumeric characters, without symbols"
   ]
  },
  {
   "cell_type": "code",
   "execution_count": 18,
   "id": "e0508de6",
   "metadata": {},
   "outputs": [
    {
     "data": {
      "text/plain": [
       "'Sawan   Palasiya        Student of      FSDS    7       May     Batch'"
      ]
     },
     "execution_count": 18,
     "metadata": {},
     "output_type": "execute_result"
    }
   ],
   "source": [
    "# 7. Try to give an example of expand tab\n",
    "a = \"Sawan\\tPalasiya\\tStudent\\tof\\tFSDS\\t7\\tMay\\tBatch\"\n",
    "a.expandtabs()"
   ]
  },
  {
   "cell_type": "code",
   "execution_count": 22,
   "id": "17d26883",
   "metadata": {},
   "outputs": [
    {
     "data": {
      "text/plain": [
       "'Sawan'"
      ]
     },
     "execution_count": 22,
     "metadata": {},
     "output_type": "execute_result"
    }
   ],
   "source": [
    "# 8 . Give an example of strip , lstrip and rstrip\n",
    "a = \"  Sawan   \"\n",
    "# Strip\n",
    "a.strip()"
   ]
  },
  {
   "cell_type": "code",
   "execution_count": 23,
   "id": "3ec87439",
   "metadata": {},
   "outputs": [
    {
     "data": {
      "text/plain": [
       "'Sawan   '"
      ]
     },
     "execution_count": 23,
     "metadata": {},
     "output_type": "execute_result"
    }
   ],
   "source": [
    "#lstrip\n",
    "a.lstrip()"
   ]
  },
  {
   "cell_type": "code",
   "execution_count": 24,
   "id": "045ed889",
   "metadata": {},
   "outputs": [
    {
     "data": {
      "text/plain": [
       "'  Sawan'"
      ]
     },
     "execution_count": 24,
     "metadata": {},
     "output_type": "execute_result"
    }
   ],
   "source": [
    "# rstrip\n",
    "a.rstrip()"
   ]
  },
  {
   "cell_type": "code",
   "execution_count": 25,
   "id": "093270d6",
   "metadata": {},
   "outputs": [
    {
     "data": {
      "text/plain": [
       "'My name was Sawan'"
      ]
     },
     "execution_count": 25,
     "metadata": {},
     "output_type": "execute_result"
    }
   ],
   "source": [
    "# 9.  Replace a string charecter by another charector by taking your own example\n",
    "s = \"My name is Sawan\"\n",
    "s.replace(\"is\",\"was\")"
   ]
  },
  {
   "cell_type": "code",
   "execution_count": 34,
   "id": "f20eb7b6",
   "metadata": {},
   "outputs": [
    {
     "data": {
      "text/plain": [
       "'##Sawan###'"
      ]
     },
     "execution_count": 34,
     "metadata": {},
     "output_type": "execute_result"
    }
   ],
   "source": [
    "# 10 . Try  to give a defination of string center function with and exmple\n",
    "# Definition - center align the string, using a specified character (space is default) as the fill character.\n",
    "s = \"Sawan\"\n",
    "s.center(10,\"#\")"
   ]
  },
  {
   "cell_type": "code",
   "execution_count": null,
   "id": "4d6d953b",
   "metadata": {},
   "outputs": [],
   "source": [
    "# 11 . Write your own definition of compiler and interpretor without copy paste form internet in your own language\n",
    "#Compiler - A compiler changes  high-level language into low-level machine language\n",
    "# Interpretor - An interpreter is a software that executes the program directly without converting it to machine code."
   ]
  },
  {
   "cell_type": "code",
   "execution_count": null,
   "id": "e42f885c",
   "metadata": {},
   "outputs": [],
   "source": [
    "# 12 Python is a interpreted of compiled language give a clear ans with your understanding\n",
    "\n",
    "Python is both compiled and intepreted language"
   ]
  },
  {
   "cell_type": "code",
   "execution_count": null,
   "id": "490862dc",
   "metadata": {},
   "outputs": [],
   "source": [
    "#13 . Try to write a usecase of python with your understanding .\n",
    "\n",
    "1. Machine learning and Artificial Intelligence\n",
    "2. Data Science\n",
    "3. Game development\n",
    "4. Data analytics\n"
   ]
  }
 ],
 "metadata": {
  "kernelspec": {
   "display_name": "Python 3 (ipykernel)",
   "language": "python",
   "name": "python3"
  },
  "language_info": {
   "codemirror_mode": {
    "name": "ipython",
    "version": 3
   },
   "file_extension": ".py",
   "mimetype": "text/x-python",
   "name": "python",
   "nbconvert_exporter": "python",
   "pygments_lexer": "ipython3",
   "version": "3.9.7"
  }
 },
 "nbformat": 4,
 "nbformat_minor": 5
}
